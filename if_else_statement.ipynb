{
 "cells": [
  {
   "cell_type": "markdown",
   "metadata": {},
   "source": [
    "# if statement"
   ]
  },
  {
   "cell_type": "code",
   "execution_count": null,
   "metadata": {},
   "outputs": [],
   "source": [
    "if :  condition statement."
   ]
  },
  {
   "cell_type": "markdown",
   "metadata": {},
   "source": [
    "#  if statement:"
   ]
  },
  {
   "cell_type": "markdown",
   "metadata": {},
   "source": [
    "syntax :   \n",
    "    if condition_test:\n",
    "        do some operation."
   ]
  },
  {
   "cell_type": "code",
   "execution_count": 6,
   "metadata": {},
   "outputs": [
    {
     "name": "stdout",
     "output_type": "stream",
     "text": [
      "you are 23 year old, and you can vote\n"
     ]
    }
   ],
   "source": [
    "age = 23\n",
    "if age >= 18:   # if true then print the following\n",
    "    print(f'you are {age} year old, and you can vote')"
   ]
  },
  {
   "cell_type": "code",
   "execution_count": 7,
   "metadata": {},
   "outputs": [],
   "source": [
    "age = 10\n",
    "if age >= 18:   # if true then print the following\n",
    "    print(f'you are {age} year old, and you can vote')"
   ]
  },
  {
   "cell_type": "markdown",
   "metadata": {},
   "source": [
    "# if- else statement:"
   ]
  },
  {
   "cell_type": "code",
   "execution_count": 8,
   "metadata": {},
   "outputs": [
    {
     "name": "stdout",
     "output_type": "stream",
     "text": [
      "you are below 18, you aren't eligible to vote\n"
     ]
    }
   ],
   "source": [
    "age = 10\n",
    "if age >= 18:   # if true then print the following\n",
    "    print(f'you are {age} year old, and you can vote')\n",
    "else:\n",
    "    print(\"you are below 18, you aren't eligible to vote\")"
   ]
  },
  {
   "cell_type": "code",
   "execution_count": null,
   "metadata": {},
   "outputs": [],
   "source": [
    "age = 30\n",
    "if age >= 18:   # if true then print the following\n",
    "    print(f'you are {age} year old, and you can vote')\n",
    "else:\n",
    "    print(\"you are below 18, you aren't eligible to vote\")"
   ]
  },
  {
   "cell_type": "markdown",
   "metadata": {},
   "source": [
    "# two ways to give input to the program\n",
    "1) we declare the input\n",
    "2) taking an input from user"
   ]
  },
  {
   "cell_type": "code",
   "execution_count": 9,
   "metadata": {},
   "outputs": [
    {
     "name": "stdout",
     "output_type": "stream",
     "text": [
      "10\n"
     ]
    }
   ],
   "source": [
    "a = 10\n",
    "print(a)"
   ]
  },
  {
   "cell_type": "code",
   "execution_count": 15,
   "metadata": {},
   "outputs": [
    {
     "name": "stdin",
     "output_type": "stream",
     "text": [
      "Enter a number for me:  10\n"
     ]
    }
   ],
   "source": [
    "a = input(\"Enter a number for me: \")"
   ]
  },
  {
   "cell_type": "code",
   "execution_count": 12,
   "metadata": {},
   "outputs": [
    {
     "data": {
      "text/plain": [
       "str"
      ]
     },
     "execution_count": 12,
     "metadata": {},
     "output_type": "execute_result"
    }
   ],
   "source": [
    "type(a)"
   ]
  },
  {
   "cell_type": "code",
   "execution_count": 13,
   "metadata": {},
   "outputs": [
    {
     "name": "stdin",
     "output_type": "stream",
     "text": [
      "Enter a number for me:  10\n"
     ]
    }
   ],
   "source": [
    "a = int(input(\"Enter a number for me: \"))"
   ]
  },
  {
   "cell_type": "code",
   "execution_count": 14,
   "metadata": {},
   "outputs": [
    {
     "data": {
      "text/plain": [
       "int"
      ]
     },
     "execution_count": 14,
     "metadata": {},
     "output_type": "execute_result"
    }
   ],
   "source": [
    "type(a)"
   ]
  },
  {
   "cell_type": "code",
   "execution_count": 16,
   "metadata": {},
   "outputs": [
    {
     "name": "stdin",
     "output_type": "stream",
     "text": [
      "enter the age:  22\n"
     ]
    },
    {
     "name": "stdout",
     "output_type": "stream",
     "text": [
      "you are 22 year old, and you can vote\n"
     ]
    }
   ],
   "source": [
    "age = int(input(\"enter the age: \"))\n",
    "if age >= 18:   # if true then print the following\n",
    "    print(f'you are {age} year old, and you can vote')\n",
    "else:\n",
    "    print(\"you are below 18, you aren't eligible to vote\")"
   ]
  },
  {
   "cell_type": "code",
   "execution_count": 1,
   "metadata": {},
   "outputs": [
    {
     "name": "stdout",
     "output_type": "stream",
     "text": [
      "no\n",
      "not eligible\n"
     ]
    }
   ],
   "source": [
    "age = 17\n",
    "if age >= 18:\n",
    "    print(\"yor are old enough to vote\")\n",
    "    print(\"have u registered to vote\")\n",
    "else:\n",
    "    print(\"no\")\n",
    "    print(\"not eligible\")"
   ]
  },
  {
   "cell_type": "code",
   "execution_count": null,
   "metadata": {},
   "outputs": [],
   "source": [
    "# kids leeser than 4 year old- no tickets\n",
    "# kids  from 4-12 = $20\n",
    "# age > 12 lesser than 60 - $ 40\n",
    "# age >60 - not allowed"
   ]
  },
  {
   "cell_type": "code",
   "execution_count": 8,
   "metadata": {},
   "outputs": [
    {
     "name": "stdout",
     "output_type": "stream",
     "text": [
      "not allowed\n"
     ]
    }
   ],
   "source": [
    "age = 61\n",
    "if age <=4:\n",
    "    print(\"free entry\")\n",
    "elif 4<age<=12:\n",
    "    print(\"fee is $ 20\")\n",
    "elif 12<age<60:\n",
    "    print(\"fee is $ 40\")\n",
    "else:\n",
    "    print(\"not allowed\")"
   ]
  },
  {
   "cell_type": "code",
   "execution_count": null,
   "metadata": {},
   "outputs": [],
   "source": [
    "<   lesser\n",
    ">  greater\n",
    "a<b\n",
    "a>b\n",
    "a ( a is lesser than 6 abd greater than 1)\n",
    "    1<a<6"
   ]
  },
  {
   "cell_type": "markdown",
   "metadata": {},
   "source": [
    "num = 5\n",
    "num < 0 output: -ve num\n",
    "num = 0 output :neutral\n",
    "num> 0 output: +ve "
   ]
  },
  {
   "cell_type": "code",
   "execution_count": 13,
   "metadata": {},
   "outputs": [
    {
     "name": "stdout",
     "output_type": "stream",
     "text": [
      "-ve number\n"
     ]
    }
   ],
   "source": [
    "num=-10\n",
    "if num<0:\n",
    "    print(\"-ve number\")\n",
    "elif num>0:\n",
    "    print(\"+ve number\")\n",
    "else:\n",
    "    print(\"netural number\")\n"
   ]
  },
  {
   "cell_type": "code",
   "execution_count": 26,
   "metadata": {},
   "outputs": [
    {
     "name": "stdout",
     "output_type": "stream",
     "text": [
      "-ve num\n"
     ]
    }
   ],
   "source": [
    "num=-8 \n",
    "if num<0: \n",
    "    print(\"-ve num\") \n",
    "elif num==0: \n",
    "    print(\"neutral\")  \n",
    "else:\n",
    "    print(\"+ve\")"
   ]
  },
  {
   "cell_type": "code",
   "execution_count": 28,
   "metadata": {},
   "outputs": [
    {
     "name": "stdout",
     "output_type": "stream",
     "text": [
      "num is positively\n"
     ]
    }
   ],
   "source": [
    "num = 5\n",
    "if num < 0:\n",
    "    print(\"num is negative\")\n",
    "elif num == 0:\n",
    "    print(\"num is netural\") \n",
    "else:\n",
    "    print(\"num is positively\")"
   ]
  },
  {
   "cell_type": "code",
   "execution_count": null,
   "metadata": {},
   "outputs": [],
   "source": []
  }
 ],
 "metadata": {
  "kernelspec": {
   "display_name": "Python 3",
   "language": "python",
   "name": "python3"
  },
  "language_info": {
   "codemirror_mode": {
    "name": "ipython",
    "version": 3
   },
   "file_extension": ".py",
   "mimetype": "text/x-python",
   "name": "python",
   "nbconvert_exporter": "python",
   "pygments_lexer": "ipython3",
   "version": "3.8.3"
  }
 },
 "nbformat": 4,
 "nbformat_minor": 4
}
